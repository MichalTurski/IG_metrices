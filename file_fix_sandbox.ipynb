{
 "cells": [
  {
   "cell_type": "code",
   "execution_count": 45,
   "metadata": {},
   "outputs": [],
   "source": [
    "import os\n",
    "import xmlschema\n",
    "import glob\n",
    "import re\n",
    "import difflib\n",
    "import copy\n",
    "import pprint\n"
   ]
  },
  {
   "cell_type": "code",
   "execution_count": 4,
   "metadata": {},
   "outputs": [
    {
     "name": "stdout",
     "output_type": "stream",
     "text": [
      "dict_keys(['TEXT', 'TAGS'])\n"
     ]
    }
   ],
   "source": [
    "mae_schema = xmlschema.XMLSchema('./mae_schema.xsd')\n",
    "\n",
    "gs_dict = mae_schema.to_dict(\"./gold_anots/1_37.txt.gs.xml\")\n",
    "app_dict = mae_schema.to_dict(\"./app_anots/1_37.txt.xml\")\n",
    "\n",
    "gs_text = gs_dict['TEXT']\n",
    "app_text = app_dict['TEXT']\n",
    "\n",
    "print(gs_dict.keys())\n"
   ]
  },
  {
   "cell_type": "code",
   "execution_count": 16,
   "metadata": {},
   "outputs": [
    {
     "data": {
      "text/plain": [
       "dict"
      ]
     },
     "execution_count": 16,
     "metadata": {},
     "output_type": "execute_result"
    }
   ],
   "source": [
    "type(gs_dict)\n"
   ]
  },
  {
   "cell_type": "code",
   "execution_count": 6,
   "metadata": {},
   "outputs": [],
   "source": [
    "# version 1 - cleanup some whitespaces and use difflib\n",
    "# version 2 - cleanup all whitespaces\n",
    "\n",
    "def clean_up_text(text):\n",
    "    text = re.sub(re.compile('\\.'), '', text)\n",
    "    text = re.sub(re.compile('\\n\\n+'), '\\n', text)\n",
    "    text = re.sub(re.compile('\\n'), ' ', text)\n",
    "    text = re.sub(re.compile('\\s\\s+'), ' ', text)\n",
    "#     text = re.sub(re.compile('\\s'), '', text)\n",
    "#     text = re.sub(re.compile('\\.|,'), '', text)\n",
    "    return text.strip()\n",
    "    \n",
    "gs_clean = clean_up_text(gs_text)\n",
    "app_clean = clean_up_text(app_text)"
   ]
  },
  {
   "cell_type": "code",
   "execution_count": 8,
   "metadata": {},
   "outputs": [
    {
     "name": "stdout",
     "output_type": "stream",
     "text": [
      "owadzone w ramach należnej mu pełnej autonomii powinny służyć osiąganiu tych celów, Senat Uniwersytetu Warszawskiego stanowi, co następuje: DZIAŁ I UNIWERSYTET WARSZAWSKI POSTANOWIENIA OGÓLNE § 1 Sied\n",
      "owadzone w ramach należnej mu pełnej autonomii powinny służyć osiąganiu tych celów, Senat Uniwersytetu Warszawskiego stanowi, co następuje : DZIAŁ I UNIWERSYTET WARSZAWSKI POSTANOWIENIA OGÓLNE § 1 Sie\n",
      "30073 30085\n"
     ]
    }
   ],
   "source": [
    "cherry_pick = 420\n",
    "print(gs_clean[cherry_pick:cherry_pick+200])\n",
    "print(app_clean[cherry_pick:cherry_pick+200])\n",
    "\n",
    "print(len(gs_clean), len(app_clean))\n"
   ]
  },
  {
   "cell_type": "code",
   "execution_count": 38,
   "metadata": {},
   "outputs": [
    {
     "name": "stdout",
     "output_type": "stream",
     "text": [
      "37_38.txt.xml 2049 vs 2052 gs vs app\n",
      "1248 +  \n",
      "uczycielami akademickimi, stanowi nie mniej niż 25% składu Senatu, przy czym liczba pracowników nieb\n",
      "uczycielami akademickimi, stanowi nie mniej niż 25 % składu Senatu, przy czym liczba pracowników nie\n",
      "1507 +  \n",
      " najmniejszą liczbą całkowitą nie mniejszą niż 20% składu Senatu Liczbę przedstawicieli studentów i \n",
      "t najmniejszą liczbą całkowitą nie mniejszą niż 20 % składu Senatu Liczbę przedstawicieli studentów \n",
      "1939 +  \n",
      "estor, osoba reprezentująca system biblioteczno-informacyjny, oraz przedstawiciele związków zawodowy\n",
      "kwestor, osoba reprezentująca system biblioteczno- informacyjny, oraz przedstawiciele związków zawod\n",
      "§ 37 Senat 1 Członkiem Senatu może być osoba spełniająca warunki wskazane w art 29 ust 4 Ustawy 2 Ka\n",
      "§ 37 Senat 1 Członkiem Senatu może być osoba spełniająca warunki wskazane w art 29 ust 4 Ustawy 2 Ka\n"
     ]
    }
   ],
   "source": [
    "for filepath in glob.glob('./app_anots/*'):\n",
    "    filename = filepath.split('\\\\')[-1]\n",
    "    if not filename.startswith('37'):\n",
    "        continue\n",
    "    gs_dict = mae_schema.to_dict(f\"./gold_anots/{filename.replace('txt','txt.gs')}\")\n",
    "    app_dict = mae_schema.to_dict(f\"./app_anots/{filename}\")\n",
    "    print(filename, len(clean_up_text(gs_dict['TEXT'])), 'vs', len(clean_up_text(app_dict['TEXT'])), 'gs vs app')\n",
    "    gs_clean_text = clean_up_text(gs_dict['TEXT'])\n",
    "    app_clean_text = clean_up_text(app_dict['TEXT'])\n",
    "    for i, s in enumerate(difflib.ndiff(gs_clean_text, app_clean_text)):\n",
    "        if s[0] != ' ':\n",
    "            print(i, s)\n",
    "            print(gs_clean_text[i - 50: i+50])\n",
    "            print(app_clean_text[i - 50: i+50])\n",
    "    print(clean_up_text(gs_dict['TEXT'])[:100])\n",
    "    print(clean_up_text(app_dict['TEXT'])[:100])\n",
    "    break\n",
    "    # assert(clean_up_text(gs_dict['TEXT']) == clean_up_text(app_dict['TEXT']))\n",
    "\n",
    "    "
   ]
  },
  {
   "cell_type": "code",
   "execution_count": 11,
   "metadata": {},
   "outputs": [],
   "source": [
    "def fix_file(filename):\n",
    "    gs_dict = mae_schema.to_dict(f\"./gold_anots/{filename}.txt.gs.xml\")\n",
    "    app_dict = mae_schema.to_dict(f\"./app_anots/{filename}.txt.xml\")\n",
    "    \n",
    "    \n",
    "fix_file('37_38')\n",
    "    "
   ]
  },
  {
   "cell_type": "code",
   "execution_count": 83,
   "metadata": {},
   "outputs": [
    {
     "name": "stdout",
     "output_type": "stream",
     "text": [
      "{'@id': 'S0', '@spans': '14~16', '@text': '1.', 'start': 14, 'end': 16}\n",
      "{'@id': 'S1', '@spans': '106~108', '@text': '2.', 'start': 106, 'end': 108}\n",
      "{'@id': 'S2', '@spans': '198~199', '@text': '.', 'start': 198, 'end': 199}\n",
      "{'@id': 'S3', '@spans': '395~397', '@text': '1.', 'start': 395, 'end': 397}\n",
      "{'@id': 'S3', '@spans': '395~397', '@text': '1.', 'start': 394, 'end': 397} start\n",
      "{'@id': 'S3', '@spans': '395~397', '@text': '1.', 'start': 394, 'end': 396} end\n",
      "{'@id': 'S4', '@spans': '586~588', '@text': '2.', 'start': 586, 'end': 588}\n",
      "{'@id': 'S4', '@spans': '586~588', '@text': '2.', 'start': 585, 'end': 588} start\n",
      "{'@id': 'S4', '@spans': '586~588', '@text': '2.', 'start': 585, 'end': 587} end\n",
      "{'@id': 'S5', '@spans': '784~785', '@text': '.', 'start': 784, 'end': 785}\n",
      "{'@id': 'S5', '@spans': '784~785', '@text': '.', 'start': 783, 'end': 785} start\n",
      "{'@id': 'S5', '@spans': '784~785', '@text': '.', 'start': 783, 'end': 784} end\n",
      "{'@id': 'S6', '@spans': '911~913', '@text': '3.', 'start': 911, 'end': 913}\n",
      "{'@id': 'S6', '@spans': '911~913', '@text': '3.', 'start': 910, 'end': 913} start\n",
      "{'@id': 'S6', '@spans': '911~913', '@text': '3.', 'start': 910, 'end': 912} end\n",
      "{'@id': 'S7', '@spans': '1059~1061', '@text': '4.', 'start': 1059, 'end': 1061}\n",
      "{'@id': 'S7', '@spans': '1059~1061', '@text': '4.', 'start': 1058, 'end': 1061} start\n",
      "{'@id': 'S7', '@spans': '1059~1061', '@text': '4.', 'start': 1058, 'end': 1060} end\n",
      "{'@id': 'S8', '@spans': '1460~1462', '@text': '5.', 'start': 1460, 'end': 1462}\n",
      "{'@id': 'S8', '@spans': '1460~1462', '@text': '5.', 'start': 1459, 'end': 1462} start\n",
      "{'@id': 'S8', '@spans': '1460~1462', '@text': '5.', 'start': 1459, 'end': 1461} end\n",
      "{'@id': 'S9', '@spans': '1579~1580', '@text': '.', 'start': 1579, 'end': 1580}\n",
      "{'@id': 'S9', '@spans': '1579~1580', '@text': '.', 'start': 1578, 'end': 1580} start\n",
      "{'@id': 'S9', '@spans': '1579~1580', '@text': '.', 'start': 1578, 'end': 1579} end\n",
      "{'@id': 'S10', '@spans': '1805~1806', '@text': '.', 'start': 1805, 'end': 1806}\n",
      "{'@id': 'S10', '@spans': '1805~1806', '@text': '.', 'start': 1804, 'end': 1806} start\n",
      "{'@id': 'S10', '@spans': '1805~1806', '@text': '.', 'start': 1804, 'end': 1805} end\n",
      "{'@id': 'S11', '@spans': '1875~1877', '@text': '6.', 'start': 1875, 'end': 1877}\n",
      "{'@id': 'S11', '@spans': '1875~1877', '@text': '6.', 'start': 1874, 'end': 1877} start\n",
      "{'@id': 'S11', '@spans': '1875~1877', '@text': '6.', 'start': 1874, 'end': 1876} end\n",
      "{'@id': 'A1', '@spans': '426~453', '@text': 'Rektor, jako przewodniczący', 'start': 426, 'end': 453}\n",
      "{'@id': 'A1', '@spans': '426~453', '@text': 'Rektor, jako przewodniczący', 'start': 425, 'end': 453} start\n",
      "{'@id': 'A1', '@spans': '426~453', '@text': 'Rektor, jako przewodniczący', 'start': 425, 'end': 452} end\n",
      "{'@id': 'A2', '@spans': '652~680', '@text': 'Uczelniana  Komisja Wyborcza', 'start': 652, 'end': 680}\n",
      "{'@id': 'A2', '@spans': '652~680', '@text': 'Uczelniana  Komisja Wyborcza', 'start': 651, 'end': 680} start\n",
      "{'@id': 'A2', '@spans': '652~680', '@text': 'Uczelniana  Komisja Wyborcza', 'start': 651, 'end': 679} end\n",
      "{'@id': 'A3', '@spans': '1932~1943', '@text': 'prorektorzy', 'start': 1932, 'end': 1943}\n",
      "{'@id': 'A3', '@spans': '1932~1943', '@text': 'prorektorzy', 'start': 1931, 'end': 1943} start\n",
      "{'@id': 'A3', '@spans': '1932~1943', '@text': 'prorektorzy', 'start': 1931, 'end': 1942} end\n",
      "{'@id': 'A4', '@spans': '1946~1954', '@text': 'kanclerz', 'start': 1946, 'end': 1954}\n",
      "{'@id': 'A4', '@spans': '1946~1954', '@text': 'kanclerz', 'start': 1945, 'end': 1954} start\n",
      "{'@id': 'A4', '@spans': '1946~1954', '@text': 'kanclerz', 'start': 1945, 'end': 1953} end\n",
      "{'@id': 'A5', '@spans': '1956~1963', '@text': 'kwestor', 'start': 1956, 'end': 1963}\n",
      "{'@id': 'A5', '@spans': '1956~1963', '@text': 'kwestor', 'start': 1955, 'end': 1963} start\n",
      "{'@id': 'A5', '@spans': '1956~1963', '@text': 'kwestor', 'start': 1955, 'end': 1962} end\n",
      "{'@id': 'A6', '@spans': '1965~2018', '@text': 'osoba reprezentująca system biblioteczno-informacyjny', 'start': 1965, 'end': 2018}\n",
      "{'@id': 'A6', '@spans': '1965~2018', '@text': 'osoba reprezentująca system biblioteczno-informacyjny', 'start': 1964, 'end': 2018} start\n",
      "{'@id': 'A6', '@spans': '1965~2018', '@text': 'osoba reprezentująca system biblioteczno-informacyjny', 'start': 1964, 'end': 2017} end\n",
      "{'@id': 'A7', '@spans': '2026~2120', '@text': 'przedstawiciele związków zawodowych działających na Uniwersytecie po jednym  z każdego związku', 'start': 2026, 'end': 2120}\n",
      "{'@id': 'A7', '@spans': '2026~2120', '@text': 'przedstawiciele związków zawodowych działających na Uniwersytecie po jednym  z każdego związku', 'start': 2025, 'end': 2120} start\n",
      "{'@id': 'A7', '@spans': '2026~2120', '@text': 'przedstawiciele związków zawodowych działających na Uniwersytecie po jednym  z każdego związku', 'start': 2025, 'end': 2119} end\n",
      "{'@id': 'A8', '@spans': '43~102', '@text': 'osoba spełniająca warunki wskazane  w art. 29 ust. 4 Ustawy', 'start': 43, 'end': 102}\n",
      "{'@id': 'A9', '@spans': '459~582', '@text': 'przedstawiciele:  a) profesorów i profesorów uczelni,  b) pozostałych pracowników Uniwersytetu,  c) studentów i doktorantów', 'start': 459, 'end': 582}\n",
      "{'@id': 'A9', '@spans': '459~582', '@text': 'przedstawiciele:  a) profesorów i profesorów uczelni,  b) pozostałych pracowników Uniwersytetu,  c) studentów i doktorantów', 'start': 458, 'end': 582} start\n",
      "{'@id': 'A9', '@spans': '459~582', '@text': 'przedstawiciele:  a) profesorów i profesorów uczelni,  b) pozostałych pracowników Uniwersytetu,  c) studentów i doktorantów', 'start': 458, 'end': 581} end\n",
      "{'@id': 'D0', '@spans': '34~38', '@text': 'może', 'start': 34, 'end': 38}\n",
      "{'@id': 'a0', '@spans': '39~42', '@text': 'być', 'start': 39, 'end': 42}\n",
      "{'@id': 'a1', '@spans': '125~129', '@text': 'trwa', 'start': 125, 'end': 129}\n",
      "{'@id': 'a2', '@spans': '283~290', '@text': 'określa', 'start': 283, 'end': 290}\n",
      "{'@id': 'a3', '@spans': '413~420', '@text': 'wchodzą', 'start': 413, 'end': 420}\n",
      "{'@id': 'a3', '@spans': '413~420', '@text': 'wchodzą', 'start': 412, 'end': 420} start\n",
      "{'@id': 'a3', '@spans': '413~420', '@text': 'wchodzą', 'start': 412, 'end': 419} end\n",
      "{'@id': 'a4', '@spans': '644~651', '@text': 'określa', 'start': 644, 'end': 651}\n",
      "{'@id': 'a4', '@spans': '644~651', '@text': 'określa', 'start': 643, 'end': 651} start\n",
      "{'@id': 'a4', '@spans': '644~651', '@text': 'określa', 'start': 643, 'end': 650} end\n",
      "{'@id': 'a5', '@spans': '898~904', '@text': 'wynosi', 'start': 898, 'end': 904}\n",
      "{'@id': 'a5', '@spans': '898~904', '@text': 'wynosi', 'start': 897, 'end': 904} start\n",
      "{'@id': 'a5', '@spans': '898~904', '@text': 'wynosi', 'start': 897, 'end': 903} end\n",
      "{'@id': 'a7', '@spans': '937~941', '@text': 'jest', 'start': 937, 'end': 941}\n",
      "{'@id': 'a7', '@spans': '937~941', '@text': 'jest', 'start': 936, 'end': 941} start\n",
      "{'@id': 'a7', '@spans': '937~941', '@text': 'jest', 'start': 936, 'end': 940} end\n",
      "{'@id': 'a8', '@spans': '1274~1281', '@text': 'stanowi', 'start': 1274, 'end': 1281}\n",
      "{'@id': 'a8', '@spans': '1274~1281', '@text': 'stanowi', 'start': 1273, 'end': 1281} start\n",
      "{'@id': 'a8', '@spans': '1274~1281', '@text': 'stanowi', 'start': 1273, 'end': 1280} end\n",
      "{'@id': 'a11', '@spans': '1645~1655', '@text': 'ustala się', 'start': 1645, 'end': 1655}\n",
      "{'@id': 'a11', '@spans': '1645~1655', '@text': 'ustala się', 'start': 1644, 'end': 1655} start\n",
      "{'@id': 'a11', '@spans': '1645~1655', '@text': 'ustala się', 'start': 1644, 'end': 1654} end\n",
      "{'@id': 'a12', '@spans': '1835~1842', '@text': 'określa', 'start': 1835, 'end': 1842}\n",
      "{'@id': 'a12', '@spans': '1835~1842', '@text': 'określa', 'start': 1834, 'end': 1842} start\n",
      "{'@id': 'a12', '@spans': '1835~1842', '@text': 'określa', 'start': 1834, 'end': 1841} end\n",
      "{'@id': 'a13', '@spans': '1901~1912', '@text': 'uczestniczą', 'start': 1901, 'end': 1912}\n",
      "{'@id': 'a13', '@spans': '1901~1912', '@text': 'uczestniczą', 'start': 1900, 'end': 1912} start\n",
      "{'@id': 'a13', '@spans': '1901~1912', '@text': 'uczestniczą', 'start': 1900, 'end': 1911} end\n",
      "{'@id': 'a14', '@spans': '1510~1514', '@text': 'jest', 'start': 1510, 'end': 1514}\n",
      "{'@id': 'a14', '@spans': '1510~1514', '@text': 'jest', 'start': 1509, 'end': 1514} start\n",
      "{'@id': 'a14', '@spans': '1510~1514', '@text': 'jest', 'start': 1509, 'end': 1513} end\n",
      "{'@id': 'o0', '@spans': '109~124', '@text': 'Kadencja Senatu', 'start': 109, 'end': 124}\n",
      "{'@id': 'o1', '@spans': '200~281', '@text': 'Czas trwania kadencji członków Senatu, o których mowa w § 38  ust. 1 pkt 2 lit. c', 'start': 200, 'end': 281}\n",
      "{'@id': 'o2', '@spans': '303~335', '@text': 'regulamin samorządu studenckiego', 'start': 303, 'end': 335}\n",
      "{'@id': 'o3', '@spans': '339~370', '@text': 'regulamin samorządu doktorantów', 'start': 339, 'end': 370}\n",
      "{'@id': 'o3', '@spans': '339~370', '@text': 'regulamin samorządu doktorantów', 'start': 339, 'end': 369} end\n",
      "{'@id': 'o4', '@spans': '398~412', '@text': 'W skład Senatu', 'start': 398, 'end': 412}\n",
      "{'@id': 'o4', '@spans': '398~412', '@text': 'W skład Senatu', 'start': 397, 'end': 412} start\n",
      "{'@id': 'o4', '@spans': '398~412', '@text': 'W skład Senatu', 'start': 397, 'end': 411} end\n",
      "{'@id': 'o5', '@spans': '589~643', '@text': 'Liczbę przedstawicieli profesorów i profesorów uczelni', 'start': 589, 'end': 643}\n",
      "{'@id': 'o5', '@spans': '589~643', '@text': 'Liczbę przedstawicieli profesorów i profesorów uczelni', 'start': 588, 'end': 643} start\n",
      "{'@id': 'o5', '@spans': '589~643', '@text': 'Liczbę przedstawicieli profesorów i profesorów uczelni', 'start': 588, 'end': 642} end\n",
      "{'@id': 'o6', '@spans': '843~897', '@text': 'liczba przedstawicieli profesorów i profesorów uczelni', 'start': 843, 'end': 897}\n",
      "{'@id': 'o6', '@spans': '843~897', '@text': 'liczba przedstawicieli profesorów i profesorów uczelni', 'start': 842, 'end': 897} start\n",
      "{'@id': 'o6', '@spans': '843~897', '@text': 'liczba przedstawicieli profesorów i profesorów uczelni', 'start': 842, 'end': 896} end\n",
      "{'@id': 'o7', '@spans': '905~907', '@text': '20', 'start': 905, 'end': 907}\n",
      "{'@id': 'o7', '@spans': '905~907', '@text': '20', 'start': 904, 'end': 907} start\n",
      "{'@id': 'o7', '@spans': '905~907', '@text': '20', 'start': 904, 'end': 906} end\n",
      "{'@id': 'o8', '@spans': '942~1055', '@text': 'największą liczbą nieparzystą nie większą niż  dwukrotność liczby przedstawicieli profesorów i profesorów uczelni', 'start': 942, 'end': 1055}\n",
      "{'@id': 'o8', '@spans': '942~1055', '@text': 'największą liczbą nieparzystą nie większą niż  dwukrotność liczby przedstawicieli profesorów i profesorów uczelni', 'start': 941, 'end': 1055} start\n",
      "{'@id': 'o8', '@spans': '942~1055', '@text': 'największą liczbą nieparzystą nie większą niż  dwukrotność liczby przedstawicieli profesorów i profesorów uczelni', 'start': 941, 'end': 1054} end\n",
      "{'@id': 'o9', '@spans': '1062~1272', '@text': 'Liczba przedstawicieli pozostałych pracowników Uniwersytetu, w tym  nauczycieli zatrudnionych na stanowiskach innych niż wymienione w ust. 1 pkt 2 lit. a  oraz pracowników niebędących nauczycielami akademickimi', 'start': 1062, 'end': 1272}\n",
      "{'@id': 'o9', '@spans': '1062~1272', '@text': 'Liczba przedstawicieli pozostałych pracowników Uniwersytetu, w tym  nauczycieli zatrudnionych na stanowiskach innych niż wymienione w ust. 1 pkt 2 lit. a  oraz pracowników niebędących nauczycielami akademickimi', 'start': 1061, 'end': 1272} start\n",
      "{'@id': 'o9', '@spans': '1062~1272', '@text': 'Liczba przedstawicieli pozostałych pracowników Uniwersytetu, w tym  nauczycieli zatrudnionych na stanowiskach innych niż wymienione w ust. 1 pkt 2 lit. a  oraz pracowników niebędących nauczycielami akademickimi', 'start': 1061, 'end': 1271} end\n",
      "{'@id': 'o10', '@spans': '1282~1456', '@text': 'nie mniej niż  25% składu Senatu, przy czym liczba pracowników niebędących nauczycielami  akademickimi stanowi najmniejszą liczbę całkowitą nie mniejszą niż 5% składu  Senatu', 'start': 1282, 'end': 1456}\n",
      "{'@id': 'o10', '@spans': '1282~1456', '@text': 'nie mniej niż  25% składu Senatu, przy czym liczba pracowników niebędących nauczycielami  akademickimi stanowi najmniejszą liczbę całkowitą nie mniejszą niż 5% składu  Senatu', 'start': 1281, 'end': 1456} start\n",
      "{'@id': 'o10', '@spans': '1282~1456', '@text': 'nie mniej niż  25% składu Senatu, przy czym liczba pracowników niebędących nauczycielami  akademickimi stanowi najmniejszą liczbę całkowitą nie mniejszą niż 5% składu  Senatu', 'start': 1281, 'end': 1455} end\n",
      "{'@id': 'o11', '@spans': '1463~1509', '@text': 'Liczba przedstawicieli studentów i doktorantów', 'start': 1463, 'end': 1509}\n",
      "{'@id': 'o11', '@spans': '1463~1509', '@text': 'Liczba przedstawicieli studentów i doktorantów', 'start': 1462, 'end': 1509} start\n",
      "{'@id': 'o11', '@spans': '1463~1509', '@text': 'Liczba przedstawicieli studentów i doktorantów', 'start': 1462, 'end': 1508} end\n",
      "{'@id': 'o12', '@spans': '1581~1644', '@text': 'Liczbę przedstawicieli studentów  i przedstawicieli doktorantów', 'start': 1581, 'end': 1644}\n",
      "{'@id': 'o12', '@spans': '1581~1644', '@text': 'Liczbę przedstawicieli studentów  i przedstawicieli doktorantów', 'start': 1580, 'end': 1644} start\n",
      "{'@id': 'o12', '@spans': '1581~1644', '@text': 'Liczbę przedstawicieli studentów  i przedstawicieli doktorantów', 'start': 1580, 'end': 1643} end\n",
      "{'@id': 'o13', '@spans': '1807~1834', '@text': 'Liczbę tych przedstawicieli', 'start': 1807, 'end': 1834}\n",
      "{'@id': 'o13', '@spans': '1807~1834', '@text': 'Liczbę tych przedstawicieli', 'start': 1806, 'end': 1834} start\n",
      "{'@id': 'o13', '@spans': '1807~1834', '@text': 'Liczbę tych przedstawicieli', 'start': 1806, 'end': 1833} end\n",
      "{'@id': 'o14', '@spans': '1878~1900', '@text': 'W posiedzeniach Senatu', 'start': 1878, 'end': 1900}\n",
      "{'@id': 'o14', '@spans': '1878~1900', '@text': 'W posiedzeniach Senatu', 'start': 1877, 'end': 1900} start\n",
      "{'@id': 'o14', '@spans': '1878~1900', '@text': 'W posiedzeniach Senatu', 'start': 1877, 'end': 1899} end\n",
      "{'@id': 'o15', '@spans': '914~936', '@text': 'Liczba członków Senatu', 'start': 914, 'end': 936}\n",
      "{'@id': 'o15', '@spans': '914~936', '@text': 'Liczba członków Senatu', 'start': 913, 'end': 936} start\n",
      "{'@id': 'o15', '@spans': '914~936', '@text': 'Liczba członków Senatu', 'start': 913, 'end': 935} end\n",
      "{'@id': 'o16', '@spans': '1515~1579', '@text': 'najmniejszą liczbą  całkowitą nie mniejszą niż 20% składu Senatu', 'start': 1515, 'end': 1579}\n",
      "{'@id': 'o16', '@spans': '1515~1579', '@text': 'najmniejszą liczbą  całkowitą nie mniejszą niż 20% składu Senatu', 'start': 1514, 'end': 1579} start\n",
      "{'@id': 'o16', '@spans': '1515~1579', '@text': 'najmniejszą liczbą  całkowitą nie mniejszą niż 20% składu Senatu', 'start': 1514, 'end': 1578} end\n",
      "{'@id': 'aC6', '@spans': '1843~1871', '@text': 'Uczelniana Komisja  Wyborcza', 'start': 1843, 'end': 1871}\n",
      "{'@id': 'aC6', '@spans': '1843~1871', '@text': 'Uczelniana Komisja  Wyborcza', 'start': 1842, 'end': 1871} start\n",
      "{'@id': 'aC6', '@spans': '1843~1871', '@text': 'Uczelniana Komisja  Wyborcza', 'start': 1842, 'end': 1870} end\n",
      "{'@id': 'aC7', '@spans': '17~33', '@text': 'Członkiem Senatu', 'start': 17, 'end': 33}\n",
      "{'@id': 'Ac0', '@spans': '144~198', '@text': 'rozpoczyna się w dniu 1 września roku  wyborów Rektora', '@RodzajAC': 'Time', 'start': 144, 'end': 198}\n",
      "{'@id': 'Ac1', '@spans': '786~841', '@text': 'W przypadku, gdy liczba wydziałów jest  mniejsza niż 15', 'start': 786, 'end': 841}\n",
      "{'@id': 'Ac1', '@spans': '786~841', '@text': 'W przypadku, gdy liczba wydziałów jest  mniejsza niż 15', 'start': 785, 'end': 841} start\n",
      "{'@id': 'Ac1', '@spans': '786~841', '@text': 'W przypadku, gdy liczba wydziałów jest  mniejsza niż 15', 'start': 785, 'end': 840} end\n",
      "{'@id': 'M0', '@spans': '130~141', '@text': 'cztery lata', 'start': 130, 'end': 141}\n",
      "{'@id': 'M1', '@spans': '291~302', '@text': 'odpowiednio', 'start': 291, 'end': 302}\n",
      "{'@id': 'M2', '@spans': '681~784', '@text': 'jako liczbę wydziałów powiększoną o najmniejszą liczbę całkowitą  nie mniejszą niż 1/3 liczby wydziałów', 'start': 681, 'end': 784}\n",
      "{'@id': 'M2', '@spans': '681~784', '@text': 'jako liczbę wydziałów powiększoną o najmniejszą liczbę całkowitą  nie mniejszą niż 1/3 liczby wydziałów', 'start': 680, 'end': 784} start\n",
      "{'@id': 'M2', '@spans': '681~784', '@text': 'jako liczbę wydziałów powiększoną o najmniejszą liczbę całkowitą  nie mniejszą niż 1/3 liczby wydziałów', 'start': 680, 'end': 783} end\n",
      "{'@id': 'M3', '@spans': '1656~1805', '@text': 'proporcjonalnie do liczebności tych grup na  Uniwersytecie, z tym że każda z tych grup reprezentowana jest przez co najmniej  jednego przedstawiciela', 'start': 1656, 'end': 1805}\n",
      "{'@id': 'M3', '@spans': '1656~1805', '@text': 'proporcjonalnie do liczebności tych grup na  Uniwersytecie, z tym że każda z tych grup reprezentowana jest przez co najmniej  jednego przedstawiciela', 'start': 1655, 'end': 1805} start\n",
      "{'@id': 'M3', '@spans': '1656~1805', '@text': 'proporcjonalnie do liczebności tych grup na  Uniwersytecie, z tym że każda z tych grup reprezentowana jest przez co najmniej  jednego przedstawiciela', 'start': 1655, 'end': 1804} end\n",
      "{'@id': 'M4', '@spans': '1913~1931', '@text': 'z głosem doradczym', 'start': 1913, 'end': 1931}\n",
      "{'@id': 'M4', '@spans': '1913~1931', '@text': 'z głosem doradczym', 'start': 1912, 'end': 1931} start\n",
      "{'@id': 'M4', '@spans': '1913~1931', '@text': 'z głosem doradczym', 'start': 1912, 'end': 1930} end\n"
     ]
    }
   ],
   "source": [
    "def parse_tags(file_dict):\n",
    "    tags = file_dict['TAGS']\n",
    "    copy_tags = copy.deepcopy(tags)\n",
    "    for tag in copy_tags:\n",
    "        for annotation_tag in copy_tags[tag]:\n",
    "            annotation_tag['start'] = int(annotation_tag['@spans'].split('~')[0])\n",
    "            annotation_tag['end'] = int(annotation_tag['@spans'].split('~')[1])\n",
    "    return copy_tags\n",
    "\n",
    "def update_span(tags, index, diff):\n",
    "    change = 1 if diff == '+' else -1\n",
    "    for tag in tags:\n",
    "        for annotation_tag in tags[tag]:\n",
    "            print(annotation_tag)\n",
    "            if annotation_tag['start'] >= index:\n",
    "                annotation_tag['start'] = annotation_tag['start'] - change\n",
    "                print(annotation_tag, 'start')\n",
    "            if annotation_tag['end'] >= index:\n",
    "                annotation_tag['end'] = annotation_tag['end'] - change\n",
    "                print(annotation_tag, 'end')\n",
    "                \n",
    "        \n",
    "    \n",
    "\n",
    "gs_tags = parse_tags(gs_dict)\n",
    "# pprint.pprint(gs_tags['oBject'])\n",
    "update_span(gs_tags, 350, '+')\n",
    "# pprint.pprint(gs_tags['oBject'])\n"
   ]
  },
  {
   "cell_type": "code",
   "execution_count": 40,
   "metadata": {},
   "outputs": [
    {
     "data": {
      "text/plain": [
       "'%'"
      ]
     },
     "execution_count": 40,
     "metadata": {},
     "output_type": "execute_result"
    }
   ],
   "source": [
    "clean_up_text(gs_dict['TEXT'])[1248]"
   ]
  },
  {
   "cell_type": "code",
   "execution_count": 27,
   "metadata": {},
   "outputs": [],
   "source": [
    "gs_dict = mae_schema.to_dict(\"./gold_anots/1_37.txt.gs.xml\")\n",
    "app_dict = mae_schema.to_dict(\"./app_anots/1_37.txt.xml\")"
   ]
  }
 ],
 "metadata": {
  "kernelspec": {
   "display_name": "Python 3",
   "language": "python",
   "name": "python3"
  },
  "language_info": {
   "codemirror_mode": {
    "name": "ipython",
    "version": 3
   },
   "file_extension": ".py",
   "mimetype": "text/x-python",
   "name": "python",
   "nbconvert_exporter": "python",
   "pygments_lexer": "ipython3",
   "version": "3.6.9"
  }
 },
 "nbformat": 4,
 "nbformat_minor": 4
}
